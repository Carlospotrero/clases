{
 "cells": [
  {
   "cell_type": "markdown",
   "metadata": {},
   "source": [
    "$\\frac {dx}{dt}-tx=3t$"
   ]
  },
  {
   "cell_type": "code",
   "execution_count": 4,
   "metadata": {},
   "outputs": [
    {
     "data": {
      "text/latex": [
       "$$x{\\left (t \\right )} = C_{1} e^{\\frac{t^{2}}{2}} - 3$$"
      ],
      "text/plain": [
       "            2    \n",
       "           t     \n",
       "           ──    \n",
       "           2     \n",
       "x(t) = C₁⋅ℯ   - 3"
      ]
     },
     "execution_count": 4,
     "metadata": {},
     "output_type": "execute_result"
    }
   ],
   "source": [
    "import sympy\n",
    "\n",
    "sympy.init_printing(use_latex=\"mathjax\")\n",
    "\n",
    "t=sympy.Symbol(\"t\")\n",
    "\n",
    "x=sympy.Function(\"x\")\n",
    "\n",
    "f=3* t + t* (x(t))\n",
    "\n",
    "Sol=sympy.dsolve(x(t).diff(t)-f)\n",
    "Sol"
   ]
  },
  {
   "cell_type": "code",
   "execution_count": 8,
   "metadata": {},
   "outputs": [
    {
     "data": {
      "image/png": "[encoded data removed]",
      "text/latex": [
       "$$- \\frac{25 \\cos{\\left (25 \\right )}}{8 \\Gamma{\\left(\\frac{9}{4} \\right)}} \\Gamma{\\left(\\frac{5}{4} \\right)} + \\frac{5 \\sqrt{2} \\sqrt{\\pi} C\\left(\\frac{5 \\sqrt{2}}{\\sqrt{\\pi}}\\right)}{16 \\Gamma{\\left(\\frac{9}{4} \\right)}} \\Gamma{\\left(\\frac{5}{4} \\right)}$$"
      ],
      "text/plain": [
       "                                      ⎛5⋅√2⎞       \n",
       "                      5⋅√2⋅√π⋅fresnelc⎜────⎟⋅Γ(5/4)\n",
       "  25⋅cos(25)⋅Γ(5/4)                   ⎝ √π ⎠       \n",
       "- ───────────────── + ─────────────────────────────\n",
       "       8⋅Γ(9/4)                 16⋅Γ(9/4)          "
      ]
     },
     "execution_count": 8,
     "metadata": {},
     "output_type": "execute_result"
    }
   ],
   "source": [
    "import sympy as sp\n",
    "from sympy import*\n",
    "sp.init_printing()\n",
    "\n",
    "x=Symbol(\"x\")\n",
    "f=x**2 * sp.sin(x**2)\n",
    "g=sp.integrate(f,(x,0,5))\n",
    "g"
   ]
  },
  {
   "cell_type": "markdown",
   "metadata": {},
   "source": [
    "## Métodos de la serie de Taylor\n",
    "\n",
    "dada la ecuacion diferencial de primer orden con la condicion en el inicio:\n",
    "$$ y"
   ]
  },
  {
   "cell_type": "code",
   "execution_count": 26,
   "metadata": {},
   "outputs": [
    {
     "data": {
      "image/png": "[encoded data removed]",
      "text/plain": [
       "<matplotlib.figure.Figure at 0x250629c9400>"
      ]
     },
     "metadata": {},
     "output_type": "display_data"
    }
   ],
   "source": [
    "import matplotlib.pyplot as plt\n",
    "import numpy as np\n",
    "import math\n",
    "\n",
    "\n",
    "def f(x): \n",
    "   return np.exp(x) + x**2 +x\n",
    "   \n",
    "a=[.1,.2]\n",
    "b=[1.2152,1.4614]\n",
    "x= np.arange(-1, .9, 0.1)\n",
    "\n",
    "plt.plot(x, f(x), \"k\", label=\"solucion exacta\")\n",
    "plt.plot(a, b,\"ro\", label=\"aproximacion de Taylor\")\n",
    "\n",
    "plt.show()\n"
   ]
  },
  {
   "cell_type": "code",
   "execution_count": 41,
   "metadata": {},
   "outputs": [],
   "source": [
    "import numpy as np\n",
    "\n",
    "def taylor3(f, df, x, y, h, m):\n",
    "    u = np.zeros([m,2])\n",
    "    for i in range(m):\n",
    "        y=y + h*f(x,y) +h**2/2*df(x,y)\n",
    "        x = x+h\n",
    "        u[i,0] = x\n",
    "        u[i,1] = y\n",
    "    return u \n"
   ]
  },
  {
   "cell_type": "code",
   "execution_count": 44,
   "metadata": {},
   "outputs": [
    {
     "data": {
      "image/png": "[encoded data removed]",
      "text/plain": [
       "<matplotlib.figure.Figure at 0x25062efe668>"
      ]
     },
     "metadata": {},
     "output_type": "display_data"
    },
    {
     "name": "stdout",
     "output_type": "stream",
     "text": [
      "[[ 0.1         1.215     ]\n",
      " [ 0.2         1.461125  ]\n",
      " [ 0.3         1.73974312]\n",
      " [ 0.4         2.05236615]\n",
      " [ 0.5         2.4006646 ]]\n"
     ]
    }
   ],
   "source": [
    "import numpy as np\n",
    "\n",
    "import pylab as pl\n",
    "#x0=0, y0=1 h=.1 m=5\n",
    "\n",
    "def f(x,y):\n",
    "    return y-x**2+x+1\n",
    "def df(x,y):\n",
    "    return y+x**2-x+2\n",
    "\n",
    "u=taylor3(f,df,0,1,0.1,5)\n",
    "x=u[:,0]\n",
    "y=u[:,1]\n",
    "\n",
    "pl.plot(x,y,\"o\")\n",
    "\n",
    "pl.show()\n",
    "\n",
    "\n",
    "print (u)\n",
    "\n",
    "\n",
    "\n",
    "\n",
    "\n",
    "\n",
    "\n",
    "\n",
    "\n",
    "\n",
    "\n"
   ]
  },
  {
   "cell_type": "code",
   "execution_count": 46,
   "metadata": {},
   "outputs": [
    {
     "name": "stdout",
     "output_type": "stream",
     "text": [
      "\n",
      "x = [ 0.   0.1  0.2  0.3  0.4  0.5]\n",
      "\n",
      "y = [[ 1.        ]\n",
      " [ 1.09967618]\n",
      " [ 1.19750056]\n",
      " [ 1.29191662]\n",
      " [ 1.38175001]\n",
      " [ 1.46622838]]\n"
     ]
    }
   ],
   "source": [
    "from numpy import*\n",
    "from scipy.integrate import odeint\n",
    "\n",
    "def f(x,y):\n",
    "    return y-x**2+x+1\n",
    "\n",
    "\n",
    "x=arange(0,0.6,0.1)\n",
    "\n",
    "y=odeint(f,1,x)\n",
    "\n",
    "\n",
    "print(\"\\nx =\" ,x)\n",
    "\n",
    "print(\"\\ny =\" ,y)"
   ]
  },
  {
   "cell_type": "code",
   "execution_count": null,
   "metadata": {
    "collapsed": true
   },
   "outputs": [],
   "source": []
  }
 ],
 "metadata": {
  "kernelspec": {
   "display_name": "Python 3",
   "language": "python",
   "name": "python3"
  },
  "language_info": {
   "codemirror_mode": {
    "name": "ipython",
    "version": 3
   },
   "file_extension": ".py",
   "mimetype": "text/x-python",
   "name": "python",
   "nbconvert_exporter": "python",
   "pygments_lexer": "ipython3",
   "version": "3.6.3"
  }
 },
 "nbformat": 4,
 "nbformat_minor": 2
}
