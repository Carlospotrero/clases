{
 "cells": [
  {
   "cell_type": "markdown",
   "metadata": {},
   "source": [
    "# clase de integrales simples\n",
    "\n",
    "metodos numéricos para resolver valores iniciales \n",
    "\n",
    "los métodos a revisar son: método de Euler y de Runge_Kutta\n",
    "\n",
    "consideremos un problema de valores iniciales como el que sigue:\n",
    "$$\\begin{equation}\\begin{cases}\\dot{y}(t) & = & f(y,t),\\\\y(0) & y_{0},\\end{cases}\\label{n=1}\\end{equation}$$\n",
    "\n",
    "donde $y(t)\\equiv y$ es un vector n-dimensional y $y_0$ es el valor inicial\n",
    "\n",
    "\n",
    "\n",
    "## integradores simples\n",
    "\n",
    "Discretizamos la coordenada tiempo $t$ como sigue $t_n=t_0 + n\\Delta t$ y definimos $f_n\\equiv f(t_n)$. Queremos saber el comportamiento de la ecuacion de valores iniciales de arriba para un tiempo $t_n$:\n",
    "$$\\dot{y_n}=f(y_n, t_n)$$\n",
    "\n"
   ]
  },
  {
   "cell_type": "code",
   "execution_count": null,
   "metadata": {
    "collapsed": true
   },
   "outputs": [],
   "source": []
  },
  {
   "cell_type": "code",
   "execution_count": null,
   "metadata": {
    "collapsed": true
   },
   "outputs": [],
   "source": []
  },
  {
   "cell_type": "code",
   "execution_count": null,
   "metadata": {
    "collapsed": true
   },
   "outputs": [],
   "source": []
  }
 ],
 "metadata": {
  "kernelspec": {
   "display_name": "Python 3",
   "language": "python",
   "name": "python3"
  },
  "language_info": {
   "codemirror_mode": {
    "name": "ipython",
    "version": 3
   },
   "file_extension": ".py",
   "mimetype": "text/x-python",
   "name": "python",
   "nbconvert_exporter": "python",
   "pygments_lexer": "ipython3",
   "version": "3.6.3"
  }
 },
 "nbformat": 4,
 "nbformat_minor": 2
}
