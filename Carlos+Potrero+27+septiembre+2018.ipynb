{
 "cells": [
  {
   "cell_type": "markdown",
   "metadata": {},
   "source": [
    "## Método de euler\n",
    "\n",
    "\n",
    "$$y_{i+1}=y_i+hf(x_i, y_i)$$\n",
    "$$x_{i+1}=x_i+h, i=1,2...$$\n",
    "$$E=\\frac{h^2}{2!}y´´(z)=O(h^2)$$\n",
    "\n",
    "\n",
    "## Euler Mejorado\n",
    "\n",
    "$$\\bar{y}_{i+1}=y_i+hf(x_i ,y_i)$$\n",
    "$$y_{i+1}=y_i+\\frac{h}{2}(f(x_i,y_i)+f(x_{i+1}, \\bar{y}_{i+1}))$$\n",
    "$$x_{i+1}=x_i+h, i=1+2+...$$\n",
    "$$E=\\frac{h^3}{3!}y´´(z)=O(h^3)$$\n",
    "\n",
    "## Runge-kutta (segundo orden)\n",
    "\n",
    "$$k_1=hf(x_i, y_i)$$\n",
    "$$k_2=hf(x_i+h, y_i+k_1)$$\n",
    "$$y_{i+1}=y_i+\\frac{1}{2}(k_1+k_2)$$\n",
    "$$x_{i+1}=x_i+h, i=1+2+...$$\n",
    "$$E=\\frac{h^3}{3!}y´´(z)=O(h^3)$$\n",
    "\n",
    "## Cuarto Orden\n",
    "\n",
    "$$k_1=hf(x_i, y_i)$$\n",
    "$$k_2=hf(x_i+\\frac{h}{2},y_i+\\frac{k_1}{2})$$\n",
    "$$k_3=hf(x_i+\\frac{h}{2},y_i+\\frac{k_2}{2})$$\n",
    "$$k_4=hf(x_i+h,y_i+k_3)$$\n",
    "$$y_{i+1}=y_i+\\frac{1}{6}(k_i+2k_2+2k_3+k_4)$$\n",
    "$$x_{i+1}=x_i+h, i=1,2,..., E=O(h^5)$$"
   ]
  },
  {
   "cell_type": "code",
   "execution_count": 1,
   "metadata": {
    "collapsed": true
   },
   "outputs": [],
   "source": [
    "##método de Euler\n",
    "\n",
    "\n",
    "import numpy as np\n",
    "def euler (f,x,y,h,m):\n",
    "    u=np.zeros([m,2])\n",
    "    for i in range(m):\n",
    "        y=y+h*f(x,y)\n",
    "        x=x+h\n",
    "        u[i,0]=x\n",
    "        u[i,1]=y\n",
    "    return u"
   ]
  },
  {
   "cell_type": "code",
   "execution_count": 7,
   "metadata": {},
   "outputs": [
    {
     "data": {
      "image/png": "[encoded data removed]",
      "text/plain": [
       "<matplotlib.figure.Figure at 0x1b5b13e0940>"
      ]
     },
     "metadata": {},
     "output_type": "display_data"
    }
   ],
   "source": [
    "import numpy as np\n",
    "import pylab as pl\n",
    "def f(x,y):\n",
    " return y-x**2+x+1\n",
    "u=euler (f,0,1,0.1,20)\n",
    "pl.plot(u[:,0],u[:,1], \"or\")\n",
    "def y(x):\n",
    "   return np.exp(x)+x**2+x\n",
    "x=pl.arange(0,2.1,0.1)\n",
    "pl.plot(x,y(x),\"ob\")\n",
    "pl.grid(True)\n",
    "pl.show()"
   ]
  },
  {
   "cell_type": "code",
   "execution_count": null,
   "metadata": {
    "collapsed": true
   },
   "outputs": [],
   "source": []
  }
 ],
 "metadata": {
  "kernelspec": {
   "display_name": "Python 3",
   "language": "python",
   "name": "python3"
  },
  "language_info": {
   "codemirror_mode": {
    "name": "ipython",
    "version": 3
   },
   "file_extension": ".py",
   "mimetype": "text/x-python",
   "name": "python",
   "nbconvert_exporter": "python",
   "pygments_lexer": "ipython3",
   "version": "3.6.3"
  }
 },
 "nbformat": 4,
 "nbformat_minor": 2
}
