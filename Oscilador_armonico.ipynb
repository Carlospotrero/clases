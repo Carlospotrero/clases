{
  "nbformat": 4,
  "nbformat_minor": 0,
  "metadata": {
    "colab": {
      "name": "Oscilador armonico",
      "version": "0.3.2",
      "provenance": []
    },
    "kernelspec": {
      "name": "python3",
      "display_name": "Python 3"
    }
  },
  "cells": [
    {
      "metadata": {
        "id": "yHvPTbOvYYxQ",
        "colab_type": "code",
        "colab": {}
      },
      "cell_type": "code",
      "source": [
        "# importando modulos necesarios\n",
        "%matplotlib inline\n",
        "\n",
        "import matplotlib.pyplot as plt\n",
        "import numpy as np\n",
        "import sympy \n",
        "from scipy import integrate\n",
        "\n",
        "# imprimir con notación matemática.\n",
        "sympy.init_printing(use_latex='mathjax')"
      ],
      "execution_count": 0,
      "outputs": []
    },
    {
      "metadata": {
        "id": "IqLe9I0YDmTq",
        "colab_type": "code",
        "colab": {
          "base_uri": "https://localhost:8080/",
          "height": 34
        },
        "outputId": "7187d3a2-fed7-422f-fbc4-ef6cae72862f"
      },
      "cell_type": "code",
      "source": [
        "##solucion con sympy\n",
        "import sympy\n",
        "# Resolviendo ecuación diferencial\n",
        "# defino las incognitas\n",
        "t = sympy.Symbol('t')\n",
        "x = sympy.Function('x')\n",
        "m = sympy.Symbol (\"m\")\n",
        "k = sympy.Symbol (\"k\")\n",
        "\n",
        "# expreso la ecuacion\n",
        "f = -k*x(t)/m\n",
        "sympy.Eq(x(t).diff(t, t), f)"
      ],
      "execution_count": 24,
      "outputs": [
        {
          "output_type": "execute_result",
          "data": {
            "text/latex": "$$\\frac{d}{d t} x{\\left (t \\right )} = \\frac{k}{m} x{\\left (t \\right )}$$",
            "text/plain": [
              "d          k⋅x(t)\n",
              "──(x(t)) = ──────\n",
              "dt           m   "
            ]
          },
          "metadata": {
            "tags": []
          },
          "execution_count": 24
        }
      ]
    },
    {
      "metadata": {
        "id": "Kn_w1llBpOpa",
        "colab_type": "code",
        "colab": {}
      },
      "cell_type": "code",
      "source": [
        ""
      ],
      "execution_count": 0,
      "outputs": []
    },
    {
      "metadata": {
        "id": "Siz06jesfiQo",
        "colab_type": "code",
        "colab": {
          "base_uri": "https://localhost:8080/",
          "height": 34
        },
        "outputId": "4c8167f0-a2e7-448e-8e0a-cac9cb02c044"
      },
      "cell_type": "code",
      "source": [
        "# Resolviendo la ecuación\n",
        "sympy.dsolve(x(t).diff(t, t) - f)"
      ],
      "execution_count": 27,
      "outputs": [
        {
          "output_type": "execute_result",
          "data": {
            "text/latex": "$$x{\\left (t \\right )} = C_{1} e^{- t \\sqrt{- \\frac{k}{m}}} + C_{2} e^{t \\sqrt{- \\frac{k}{m}}}$$",
            "text/plain": [
              "                  _____             _____\n",
              "                 ╱ -k              ╱ -k  \n",
              "           -t⋅  ╱  ───        t⋅  ╱  ─── \n",
              "              ╲╱    m           ╲╱    m  \n",
              "x(t) = C₁⋅ℯ             + C₂⋅ℯ           "
            ]
          },
          "metadata": {
            "tags": []
          },
          "execution_count": 27
        }
      ]
    },
    {
      "metadata": {
        "id": "Eb_Tg6nG0OWs",
        "colab_type": "code",
        "colab": {
          "base_uri": "https://localhost:8080/",
          "height": 51
        },
        "outputId": "fd6e1833-606b-419a-d5bd-beeb2f242a26"
      },
      "cell_type": "code",
      "source": [
        "import sympy \n",
        "sympy.init_printing(use_latex='mathjax')\n",
        "\n",
        "t = sympy.Symbol('t')\n",
        "x = sympy.Function('x')\n",
        "m = sympy.Symbol (\"m\")\n",
        "k = sympy.Symbol (\"k\")\n",
        "\n",
        "f =-k*x(t)/m\n",
        "\n",
        "#Re=sympy.Eq(x(t).diff(t), f)\n",
        "#print(\"\\nResolver la EDO\",sympy.Eq(x(t).diff(t), f))\n",
        "Sol=sympy.dsolve(x(t).diff(t, t) -(-k*x(t)/m))\n",
        "\n",
        "\n",
        "print (\"la solucion a la ecuación diferencial es: \")\n",
        "Sol"
      ],
      "execution_count": 34,
      "outputs": [
        {
          "output_type": "stream",
          "text": [
            "la solucion a la ecuación diferencial es: \n"
          ],
          "name": "stdout"
        },
        {
          "output_type": "execute_result",
          "data": {
            "text/latex": "$$x{\\left (t \\right )} = C_{1} e^{- t \\sqrt{- \\frac{k}{m}}} + C_{2} e^{t \\sqrt{- \\frac{k}{m}}}$$",
            "text/plain": [
              "                  _____             _____\n",
              "                 ╱ -k              ╱ -k  \n",
              "           -t⋅  ╱  ───        t⋅  ╱  ─── \n",
              "              ╲╱    m           ╲╱    m  \n",
              "x(t) = C₁⋅ℯ             + C₂⋅ℯ           "
            ]
          },
          "metadata": {
            "tags": []
          },
          "execution_count": 34
        }
      ]
    },
    {
      "metadata": {
        "id": "kXGSwjmH1SVV",
        "colab_type": "code",
        "colab": {}
      },
      "cell_type": "code",
      "source": [
        ""
      ],
      "execution_count": 0,
      "outputs": []
    }
  ]
}