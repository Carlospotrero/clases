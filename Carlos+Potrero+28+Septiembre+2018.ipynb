{
 "cells": [
  {
   "cell_type": "code",
   "execution_count": 3,
   "metadata": {
    "collapsed": true
   },
   "outputs": [],
   "source": [
    "#Método de Euler mejorado (heun)\n",
    "import numpy as np\n",
    "def heun (f,x,y,h,m):\n",
    "    u=np.zeros([m,2],dtype=float)\n",
    "    for i in range(m):\n",
    "        yn=y+h*f(x,y)\n",
    "        y=y+h/2*(f(x,y)+f(h+h,yn))\n",
    "        x=x+h\n",
    "        u[i,0]=x\n",
    "        u[i,1]=y\n",
    "    return u"
   ]
  },
  {
   "cell_type": "code",
   "execution_count": 4,
   "metadata": {},
   "outputs": [
    {
     "data": {
      "image/png": "[encoded data removed]",
      "text/plain": [
       "<matplotlib.figure.Figure at 0x22b01980240>"
      ]
     },
     "metadata": {},
     "output_type": "display_data"
    }
   ],
   "source": [
    "import numpy as np\n",
    "import pylab as pl\n",
    "def f(x,y):\n",
    " return y-x**2+x+1\n",
    "u=heun (f,0,1,0.1,20)\n",
    "pl.plot(u[:,0],u[:,1], \"or\")\n",
    "def y(x):\n",
    "   return np.exp(x)+x**2+x\n",
    "x=pl.arange(0,2.1,0.1)\n",
    "pl.plot(x,y(x),\"ob\")\n",
    "pl.grid(True)\n",
    "pl.show()"
   ]
  },
  {
   "cell_type": "code",
   "execution_count": 8,
   "metadata": {},
   "outputs": [],
   "source": [
    "#metodo de Runge-kutta\n",
    "\n",
    "import numpy as np\n",
    "def rk2(f,x,y,h,m):\n",
    "    u=np.zeros([m,2],dtype=float)\n",
    "    for i in range (m):\n",
    "        k1=h*f(x,y)\n",
    "        k2=h*f(x+h,y+k1)\n",
    "        y=y+0.5*(k1+k2)\n",
    "        x=x+h\n",
    "        u[i,0]=x\n",
    "        u[i,1]=y\n",
    "    return u"
   ]
  },
  {
   "cell_type": "code",
   "execution_count": 11,
   "metadata": {},
   "outputs": [
    {
     "data": {
      "image/png": "[encoded data removed]",
      "text/plain": [
       "<matplotlib.figure.Figure at 0x22b0248c0b8>"
      ]
     },
     "metadata": {},
     "output_type": "display_data"
    }
   ],
   "source": [
    "import numpy as np\n",
    "import pylab as pl\n",
    "def f(x,y):\n",
    " return y-x**2+x+1\n",
    "u=rk2 (f,0,1,0.1,20)\n",
    "pl.plot(u[:,0],u[:,1], \"or\")\n",
    "def y(x):\n",
    "   return np.exp(x)+x**2+x\n",
    "x=pl.arange(0,2.1,0.1)\n",
    "pl.plot(x,y(x),\"ob\")\n",
    "pl.grid(True)\n",
    "pl.show()"
   ]
  },
  {
   "cell_type": "code",
   "execution_count": 12,
   "metadata": {
    "collapsed": true
   },
   "outputs": [],
   "source": [
    "import numpy as np\n",
    "def rk4(f,x,y,h,m):\n",
    "    u=np.zeros([m,2],dtype=float)\n",
    "    for i in range (m):\n",
    "        k1=h*f(x,y)\n",
    "        k2=h*f(x+h/2,y+k1/2)\n",
    "        k3=h*f(x+h/2,y+k2/2)\n",
    "        k4=h*f(x+h,y+k3)\n",
    "        y=y+1/6*(k1+2*k2+2*k3+k4)\n",
    "        x=x+h\n",
    "        u[i,0]=x\n",
    "        u[i,1]=y\n",
    "    return u"
   ]
  },
  {
   "cell_type": "code",
   "execution_count": 14,
   "metadata": {},
   "outputs": [
    {
     "data": {
      "image/png": "[encoded data removed]",
      "text/plain": [
       "<matplotlib.figure.Figure at 0x22b01c424e0>"
      ]
     },
     "metadata": {},
     "output_type": "display_data"
    }
   ],
   "source": [
    "import numpy as np\n",
    "import pylab as pl\n",
    "def f(x,y):\n",
    " return y-x**2+x+1\n",
    "u=rk4 (f,0,1,0.1,20)\n",
    "pl.plot(u[:,0],u[:,1], \"or\")\n",
    "def y(x):\n",
    "   return np.exp(x)+x**2+x\n",
    "x=pl.arange(0,2.1,0.1)\n",
    "pl.plot(x,y(x),\"ob\")\n",
    "pl.grid(True)\n",
    "pl.show()"
   ]
  },
  {
   "cell_type": "code",
   "execution_count": null,
   "metadata": {
    "collapsed": true
   },
   "outputs": [],
   "source": []
  }
 ],
 "metadata": {
  "kernelspec": {
   "display_name": "Python 3",
   "language": "python",
   "name": "python3"
  },
  "language_info": {
   "codemirror_mode": {
    "name": "ipython",
    "version": 3
   },
   "file_extension": ".py",
   "mimetype": "text/x-python",
   "name": "python",
   "nbconvert_exporter": "python",
   "pygments_lexer": "ipython3",
   "version": "3.6.3"
  }
 },
 "nbformat": 4,
 "nbformat_minor": 2
}
