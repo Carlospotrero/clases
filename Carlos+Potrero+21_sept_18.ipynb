{
 "cells": [
  {
   "cell_type": "markdown",
   "metadata": {},
   "source": [
    "# Ecuaciones diferenciales con python\n",
    "\n",
    "\n",
    "introduccion \n",
    "podemos moledar matemáticamente los fenomenos a partir de una o mas ecuaciones diferenciales  \n",
    "\n",
    "\n",
    "que es una ecuacion diferencial\n",
    "una ecuacion diferencial es una ecuacion que involucra una variable independiente y sus derivadas con respecto a una o más variables independientes.\n",
    " Es facil entender entender la razon detrás de esta amplia utilidad de las ecuaciones diferenciales.\n",
    " \n",
    " \n",
    " segun la segunda ley de Newton, la aceleracion de un cuerpo de masa m es proporcional a la fuerza total F que actua sobre e.\n",
    " \n",
    "$$F=ma$$ \n",
    " \n",
    " pero podemos expresar esta formula en forma de ecuación diferencial. esto es una ecuacion diferencial ordinarias\n",
    "  \n",
    " tambien existen las derivadas parciales\n",
    "  \n",
    "  \n",
    "  \n",
    "\n",
    "## orden de ecuaciones diferenciales \n",
    "\n",
    " el orden de una ecuacion diferencial va a ser igal al orden de mayor derivada presente. Asi, en nuestro primer ejemplo, la ecuación diferencial de la segunda ley de la dinámica de Newton es de segundo orden, ya que nos encontramos ante la segunda derivada de la posición respecto del tiempo.\n",
    " \n",
    " ## Ecuaciones diferenciales separables\n",
    " \n",
    " \n",
    "Una ecuación separable es una ecuacion de primer orden en la que la expresión para   dx/dy se puede factorizar como una función x multiplicada por una función de y\n",
    "\n",
    "\n"
   ]
  },
  {
   "cell_type": "code",
   "execution_count": 24,
   "metadata": {},
   "outputs": [
    {
     "data": {
      "text/latex": [
       "$$\\frac{d}{d x} y{\\left (x \\right )} = - 3 x^{2} y{\\left (x \\right )} + 6 x^{2}$$"
      ],
      "text/plain": [
       "d               2           2\n",
       "──(y(x)) = - 3⋅x ⋅y(x) + 6⋅x \n",
       "dx                           "
      ]
     },
     "execution_count": 24,
     "metadata": {},
     "output_type": "execute_result"
    }
   ],
   "source": [
    "import sympy\n",
    "from scipy import integrate\n",
    "\n",
    "#imprimir con notación matemática\n",
    "sympy .init_printing(use_latex=\"mathjax\")\n",
    "\n",
    "#resolviendo una aceuación diferencial \n",
    "#defino las incógnitas\n",
    "x=sympy.Symbol(\"x\")\n",
    "y=sympy.Symbol(\"y\")\n",
    "\n",
    "#expreso la ecuación\n",
    "f=6*x**2 - 3*x**2*(y(x))\n",
    "sympy.Eq(y(x).diff(x), f)\n",
    "\n",
    "\n"
   ]
  },
  {
   "cell_type": "code",
   "execution_count": 25,
   "metadata": {},
   "outputs": [
    {
     "data": {
      "text/latex": [
       "$$y{\\left (x \\right )} = C_{1} e^{- x^{3}} + 2$$"
      ],
      "text/plain": [
       "             3    \n",
       "           -x     \n",
       "y(x) = C₁⋅ℯ    + 2"
      ]
     },
     "execution_count": 25,
     "metadata": {},
     "output_type": "execute_result"
    }
   ],
   "source": [
    "sympy.dsolve(y(x).diff(x)-f)"
   ]
  },
  {
   "cell_type": "code",
   "execution_count": 29,
   "metadata": {},
   "outputs": [
    {
     "data": {
      "text/latex": [
       "$$\\frac{d}{d x} y{\\left (x \\right )} = \\frac{1}{2} y^{2}{\\left (x \\right )} - \\frac{1}{2}$$"
      ],
      "text/plain": [
       "            2       \n",
       "d          y (x)   1\n",
       "──(y(x)) = ───── - ─\n",
       "dx           2     2"
      ]
     },
     "execution_count": 29,
     "metadata": {},
     "output_type": "execute_result"
    }
   ],
   "source": [
    "import sympy\n",
    "from scipy import integrate\n",
    "sympy .init_printing(use_latex=\"mathjax\")\n",
    "x=sympy.Symbol(\"x\")\n",
    "y=sympy.Symbol(\"y\")\n",
    "\n",
    "f=(y(x)**2-1)/2\n",
    "sympy.Eq(y(x).diff(x), f)\n"
   ]
  },
  {
   "cell_type": "code",
   "execution_count": 30,
   "metadata": {},
   "outputs": [
    {
     "data": {
      "text/latex": [
       "$$y{\\left (x \\right )} = \\frac{1}{\\tanh{\\left (C_{1} - \\frac{x}{2} \\right )}}$$"
      ],
      "text/plain": [
       "            1      \n",
       "y(x) = ────────────\n",
       "           ⎛     x⎞\n",
       "       tanh⎜C₁ - ─⎟\n",
       "           ⎝     2⎠"
      ]
     },
     "execution_count": 30,
     "metadata": {},
     "output_type": "execute_result"
    }
   ],
   "source": [
    "sympy.dsolve(y(x).diff(x)-f)"
   ]
  },
  {
   "cell_type": "code",
   "execution_count": null,
   "metadata": {
    "collapsed": true
   },
   "outputs": [],
   "source": []
  }
 ],
 "metadata": {
  "kernelspec": {
   "display_name": "Python 3",
   "language": "python",
   "name": "python3"
  },
  "language_info": {
   "codemirror_mode": {
    "name": "ipython",
    "version": 3
   },
   "file_extension": ".py",
   "mimetype": "text/x-python",
   "name": "python",
   "nbconvert_exporter": "python",
   "pygments_lexer": "ipython3",
   "version": "3.6.3"
  }
 },
 "nbformat": 4,
 "nbformat_minor": 2
}
